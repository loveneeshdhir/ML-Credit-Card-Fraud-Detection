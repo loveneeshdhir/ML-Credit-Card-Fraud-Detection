{
  "nbformat": 4,
  "nbformat_minor": 0,
  "metadata": {
    "kernelspec": {
      "display_name": "Python 3",
      "language": "python",
      "name": "python3"
    },
    "language_info": {
      "codemirror_mode": {
        "name": "ipython",
        "version": 3
      },
      "file_extension": ".py",
      "mimetype": "text/x-python",
      "name": "python",
      "nbconvert_exporter": "python",
      "pygments_lexer": "ipython3",
      "version": "3.7.3"
    },
    "colab": {
      "name": "Credit_Card_Fraud_Detection.ipynb",
      "version": "0.3.2",
      "provenance": []
    }
  },
  "cells": [
    {
      "cell_type": "code",
      "metadata": {
        "id": "_-4Iy2ys7xGc",
        "colab_type": "code",
        "colab": {},
        "outputId": "5678413e-adfa-496f-c13f-12f85713b20c"
      },
      "source": [
        "#Importing the basic libraries\n",
        "import numpy as np\n",
        "import pandas as pd\n",
        "import matplotlib.pyplot as plt\n",
        "import plotly.offline as py\n",
        "from plotly import tools\n",
        "py.init_notebook_mode(connected=True)\n",
        "import plotly.graph_objs as go\n",
        "from sklearn.model_selection import train_test_split\n",
        "import warnings\n",
        "warnings.filterwarnings('ignore')"
      ],
      "execution_count": 0,
      "outputs": [
        {
          "output_type": "display_data",
          "data": {
            "text/html": [
              "        <script type=\"text/javascript\">\n",
              "        window.PlotlyConfig = {MathJaxConfig: 'local'};\n",
              "        if (window.MathJax) {MathJax.Hub.Config({SVG: {font: \"STIX-Web\"}});}\n",
              "        if (typeof require !== 'undefined') {\n",
              "        require.undef(\"plotly\");\n",
              "        requirejs.config({\n",
              "            paths: {\n",
              "                'plotly': ['https://cdn.plot.ly/plotly-latest.min']\n",
              "            }\n",
              "        });\n",
              "        require(['plotly'], function(Plotly) {\n",
              "            window._Plotly = Plotly;\n",
              "        });\n",
              "        }\n",
              "        </script>\n",
              "        "
            ]
          },
          "metadata": {
            "tags": []
          }
        }
      ]
    },
    {
      "cell_type": "code",
      "metadata": {
        "id": "5E6UvrB87xGk",
        "colab_type": "code",
        "colab": {},
        "outputId": "85b84a2c-002e-4a3e-fdfe-3e695a2fae6e"
      },
      "source": [
        "#Reading the dataset \n",
        "df = pd.read_csv('creditcard.csv')\n",
        "df.shape"
      ],
      "execution_count": 0,
      "outputs": [
        {
          "output_type": "execute_result",
          "data": {
            "text/plain": [
              "(284807, 31)"
            ]
          },
          "metadata": {
            "tags": []
          },
          "execution_count": 2
        }
      ]
    },
    {
      "cell_type": "code",
      "metadata": {
        "id": "E9QdW2tf7xGm",
        "colab_type": "code",
        "colab": {},
        "outputId": "0d6a4756-1645-4add-fb12-020a830ccf3d"
      },
      "source": [
        "#Let's check if there are any null values \n",
        "df.isnull().sum()"
      ],
      "execution_count": 0,
      "outputs": [
        {
          "output_type": "execute_result",
          "data": {
            "text/plain": [
              "Time      0\n",
              "V1        0\n",
              "V2        0\n",
              "V3        0\n",
              "V4        0\n",
              "V5        0\n",
              "V6        0\n",
              "V7        0\n",
              "V8        0\n",
              "V9        0\n",
              "V10       0\n",
              "V11       0\n",
              "V12       0\n",
              "V13       0\n",
              "V14       0\n",
              "V15       0\n",
              "V16       0\n",
              "V17       0\n",
              "V18       0\n",
              "V19       0\n",
              "V20       0\n",
              "V21       0\n",
              "V22       0\n",
              "V23       0\n",
              "V24       0\n",
              "V25       0\n",
              "V26       0\n",
              "V27       0\n",
              "V28       0\n",
              "Amount    0\n",
              "Class     0\n",
              "dtype: int64"
            ]
          },
          "metadata": {
            "tags": []
          },
          "execution_count": 3
        }
      ]
    },
    {
      "cell_type": "code",
      "metadata": {
        "id": "nY9wWSmN7xGp",
        "colab_type": "code",
        "colab": {},
        "outputId": "45858ba6-741d-47aa-9d0b-57e269ee3336"
      },
      "source": [
        "#Describe the dataset to get rough idea about the data \n",
        "df.describe()"
      ],
      "execution_count": 0,
      "outputs": [
        {
          "output_type": "execute_result",
          "data": {
            "text/html": [
              "<div>\n",
              "<style scoped>\n",
              "    .dataframe tbody tr th:only-of-type {\n",
              "        vertical-align: middle;\n",
              "    }\n",
              "\n",
              "    .dataframe tbody tr th {\n",
              "        vertical-align: top;\n",
              "    }\n",
              "\n",
              "    .dataframe thead th {\n",
              "        text-align: right;\n",
              "    }\n",
              "</style>\n",
              "<table border=\"1\" class=\"dataframe\">\n",
              "  <thead>\n",
              "    <tr style=\"text-align: right;\">\n",
              "      <th></th>\n",
              "      <th>Time</th>\n",
              "      <th>V1</th>\n",
              "      <th>V2</th>\n",
              "      <th>V3</th>\n",
              "      <th>V4</th>\n",
              "      <th>V5</th>\n",
              "      <th>V6</th>\n",
              "      <th>V7</th>\n",
              "      <th>V8</th>\n",
              "      <th>V9</th>\n",
              "      <th>...</th>\n",
              "      <th>V21</th>\n",
              "      <th>V22</th>\n",
              "      <th>V23</th>\n",
              "      <th>V24</th>\n",
              "      <th>V25</th>\n",
              "      <th>V26</th>\n",
              "      <th>V27</th>\n",
              "      <th>V28</th>\n",
              "      <th>Amount</th>\n",
              "      <th>Class</th>\n",
              "    </tr>\n",
              "  </thead>\n",
              "  <tbody>\n",
              "    <tr>\n",
              "      <th>count</th>\n",
              "      <td>284807.000000</td>\n",
              "      <td>2.848070e+05</td>\n",
              "      <td>2.848070e+05</td>\n",
              "      <td>2.848070e+05</td>\n",
              "      <td>2.848070e+05</td>\n",
              "      <td>2.848070e+05</td>\n",
              "      <td>2.848070e+05</td>\n",
              "      <td>2.848070e+05</td>\n",
              "      <td>2.848070e+05</td>\n",
              "      <td>2.848070e+05</td>\n",
              "      <td>...</td>\n",
              "      <td>2.848070e+05</td>\n",
              "      <td>2.848070e+05</td>\n",
              "      <td>2.848070e+05</td>\n",
              "      <td>2.848070e+05</td>\n",
              "      <td>2.848070e+05</td>\n",
              "      <td>2.848070e+05</td>\n",
              "      <td>2.848070e+05</td>\n",
              "      <td>2.848070e+05</td>\n",
              "      <td>284807.000000</td>\n",
              "      <td>284807.000000</td>\n",
              "    </tr>\n",
              "    <tr>\n",
              "      <th>mean</th>\n",
              "      <td>94813.859575</td>\n",
              "      <td>3.919560e-15</td>\n",
              "      <td>5.688174e-16</td>\n",
              "      <td>-8.769071e-15</td>\n",
              "      <td>2.782312e-15</td>\n",
              "      <td>-1.552563e-15</td>\n",
              "      <td>2.010663e-15</td>\n",
              "      <td>-1.694249e-15</td>\n",
              "      <td>-1.927028e-16</td>\n",
              "      <td>-3.137024e-15</td>\n",
              "      <td>...</td>\n",
              "      <td>1.537294e-16</td>\n",
              "      <td>7.959909e-16</td>\n",
              "      <td>5.367590e-16</td>\n",
              "      <td>4.458112e-15</td>\n",
              "      <td>1.453003e-15</td>\n",
              "      <td>1.699104e-15</td>\n",
              "      <td>-3.660161e-16</td>\n",
              "      <td>-1.206049e-16</td>\n",
              "      <td>88.349619</td>\n",
              "      <td>0.001727</td>\n",
              "    </tr>\n",
              "    <tr>\n",
              "      <th>std</th>\n",
              "      <td>47488.145955</td>\n",
              "      <td>1.958696e+00</td>\n",
              "      <td>1.651309e+00</td>\n",
              "      <td>1.516255e+00</td>\n",
              "      <td>1.415869e+00</td>\n",
              "      <td>1.380247e+00</td>\n",
              "      <td>1.332271e+00</td>\n",
              "      <td>1.237094e+00</td>\n",
              "      <td>1.194353e+00</td>\n",
              "      <td>1.098632e+00</td>\n",
              "      <td>...</td>\n",
              "      <td>7.345240e-01</td>\n",
              "      <td>7.257016e-01</td>\n",
              "      <td>6.244603e-01</td>\n",
              "      <td>6.056471e-01</td>\n",
              "      <td>5.212781e-01</td>\n",
              "      <td>4.822270e-01</td>\n",
              "      <td>4.036325e-01</td>\n",
              "      <td>3.300833e-01</td>\n",
              "      <td>250.120109</td>\n",
              "      <td>0.041527</td>\n",
              "    </tr>\n",
              "    <tr>\n",
              "      <th>min</th>\n",
              "      <td>0.000000</td>\n",
              "      <td>-5.640751e+01</td>\n",
              "      <td>-7.271573e+01</td>\n",
              "      <td>-4.832559e+01</td>\n",
              "      <td>-5.683171e+00</td>\n",
              "      <td>-1.137433e+02</td>\n",
              "      <td>-2.616051e+01</td>\n",
              "      <td>-4.355724e+01</td>\n",
              "      <td>-7.321672e+01</td>\n",
              "      <td>-1.343407e+01</td>\n",
              "      <td>...</td>\n",
              "      <td>-3.483038e+01</td>\n",
              "      <td>-1.093314e+01</td>\n",
              "      <td>-4.480774e+01</td>\n",
              "      <td>-2.836627e+00</td>\n",
              "      <td>-1.029540e+01</td>\n",
              "      <td>-2.604551e+00</td>\n",
              "      <td>-2.256568e+01</td>\n",
              "      <td>-1.543008e+01</td>\n",
              "      <td>0.000000</td>\n",
              "      <td>0.000000</td>\n",
              "    </tr>\n",
              "    <tr>\n",
              "      <th>25%</th>\n",
              "      <td>54201.500000</td>\n",
              "      <td>-9.203734e-01</td>\n",
              "      <td>-5.985499e-01</td>\n",
              "      <td>-8.903648e-01</td>\n",
              "      <td>-8.486401e-01</td>\n",
              "      <td>-6.915971e-01</td>\n",
              "      <td>-7.682956e-01</td>\n",
              "      <td>-5.540759e-01</td>\n",
              "      <td>-2.086297e-01</td>\n",
              "      <td>-6.430976e-01</td>\n",
              "      <td>...</td>\n",
              "      <td>-2.283949e-01</td>\n",
              "      <td>-5.423504e-01</td>\n",
              "      <td>-1.618463e-01</td>\n",
              "      <td>-3.545861e-01</td>\n",
              "      <td>-3.171451e-01</td>\n",
              "      <td>-3.269839e-01</td>\n",
              "      <td>-7.083953e-02</td>\n",
              "      <td>-5.295979e-02</td>\n",
              "      <td>5.600000</td>\n",
              "      <td>0.000000</td>\n",
              "    </tr>\n",
              "    <tr>\n",
              "      <th>50%</th>\n",
              "      <td>84692.000000</td>\n",
              "      <td>1.810880e-02</td>\n",
              "      <td>6.548556e-02</td>\n",
              "      <td>1.798463e-01</td>\n",
              "      <td>-1.984653e-02</td>\n",
              "      <td>-5.433583e-02</td>\n",
              "      <td>-2.741871e-01</td>\n",
              "      <td>4.010308e-02</td>\n",
              "      <td>2.235804e-02</td>\n",
              "      <td>-5.142873e-02</td>\n",
              "      <td>...</td>\n",
              "      <td>-2.945017e-02</td>\n",
              "      <td>6.781943e-03</td>\n",
              "      <td>-1.119293e-02</td>\n",
              "      <td>4.097606e-02</td>\n",
              "      <td>1.659350e-02</td>\n",
              "      <td>-5.213911e-02</td>\n",
              "      <td>1.342146e-03</td>\n",
              "      <td>1.124383e-02</td>\n",
              "      <td>22.000000</td>\n",
              "      <td>0.000000</td>\n",
              "    </tr>\n",
              "    <tr>\n",
              "      <th>75%</th>\n",
              "      <td>139320.500000</td>\n",
              "      <td>1.315642e+00</td>\n",
              "      <td>8.037239e-01</td>\n",
              "      <td>1.027196e+00</td>\n",
              "      <td>7.433413e-01</td>\n",
              "      <td>6.119264e-01</td>\n",
              "      <td>3.985649e-01</td>\n",
              "      <td>5.704361e-01</td>\n",
              "      <td>3.273459e-01</td>\n",
              "      <td>5.971390e-01</td>\n",
              "      <td>...</td>\n",
              "      <td>1.863772e-01</td>\n",
              "      <td>5.285536e-01</td>\n",
              "      <td>1.476421e-01</td>\n",
              "      <td>4.395266e-01</td>\n",
              "      <td>3.507156e-01</td>\n",
              "      <td>2.409522e-01</td>\n",
              "      <td>9.104512e-02</td>\n",
              "      <td>7.827995e-02</td>\n",
              "      <td>77.165000</td>\n",
              "      <td>0.000000</td>\n",
              "    </tr>\n",
              "    <tr>\n",
              "      <th>max</th>\n",
              "      <td>172792.000000</td>\n",
              "      <td>2.454930e+00</td>\n",
              "      <td>2.205773e+01</td>\n",
              "      <td>9.382558e+00</td>\n",
              "      <td>1.687534e+01</td>\n",
              "      <td>3.480167e+01</td>\n",
              "      <td>7.330163e+01</td>\n",
              "      <td>1.205895e+02</td>\n",
              "      <td>2.000721e+01</td>\n",
              "      <td>1.559499e+01</td>\n",
              "      <td>...</td>\n",
              "      <td>2.720284e+01</td>\n",
              "      <td>1.050309e+01</td>\n",
              "      <td>2.252841e+01</td>\n",
              "      <td>4.584549e+00</td>\n",
              "      <td>7.519589e+00</td>\n",
              "      <td>3.517346e+00</td>\n",
              "      <td>3.161220e+01</td>\n",
              "      <td>3.384781e+01</td>\n",
              "      <td>25691.160000</td>\n",
              "      <td>1.000000</td>\n",
              "    </tr>\n",
              "  </tbody>\n",
              "</table>\n",
              "<p>8 rows × 31 columns</p>\n",
              "</div>"
            ],
            "text/plain": [
              "                Time            V1            V2            V3            V4  \\\n",
              "count  284807.000000  2.848070e+05  2.848070e+05  2.848070e+05  2.848070e+05   \n",
              "mean    94813.859575  3.919560e-15  5.688174e-16 -8.769071e-15  2.782312e-15   \n",
              "std     47488.145955  1.958696e+00  1.651309e+00  1.516255e+00  1.415869e+00   \n",
              "min         0.000000 -5.640751e+01 -7.271573e+01 -4.832559e+01 -5.683171e+00   \n",
              "25%     54201.500000 -9.203734e-01 -5.985499e-01 -8.903648e-01 -8.486401e-01   \n",
              "50%     84692.000000  1.810880e-02  6.548556e-02  1.798463e-01 -1.984653e-02   \n",
              "75%    139320.500000  1.315642e+00  8.037239e-01  1.027196e+00  7.433413e-01   \n",
              "max    172792.000000  2.454930e+00  2.205773e+01  9.382558e+00  1.687534e+01   \n",
              "\n",
              "                 V5            V6            V7            V8            V9  \\\n",
              "count  2.848070e+05  2.848070e+05  2.848070e+05  2.848070e+05  2.848070e+05   \n",
              "mean  -1.552563e-15  2.010663e-15 -1.694249e-15 -1.927028e-16 -3.137024e-15   \n",
              "std    1.380247e+00  1.332271e+00  1.237094e+00  1.194353e+00  1.098632e+00   \n",
              "min   -1.137433e+02 -2.616051e+01 -4.355724e+01 -7.321672e+01 -1.343407e+01   \n",
              "25%   -6.915971e-01 -7.682956e-01 -5.540759e-01 -2.086297e-01 -6.430976e-01   \n",
              "50%   -5.433583e-02 -2.741871e-01  4.010308e-02  2.235804e-02 -5.142873e-02   \n",
              "75%    6.119264e-01  3.985649e-01  5.704361e-01  3.273459e-01  5.971390e-01   \n",
              "max    3.480167e+01  7.330163e+01  1.205895e+02  2.000721e+01  1.559499e+01   \n",
              "\n",
              "       ...           V21           V22           V23           V24  \\\n",
              "count  ...  2.848070e+05  2.848070e+05  2.848070e+05  2.848070e+05   \n",
              "mean   ...  1.537294e-16  7.959909e-16  5.367590e-16  4.458112e-15   \n",
              "std    ...  7.345240e-01  7.257016e-01  6.244603e-01  6.056471e-01   \n",
              "min    ... -3.483038e+01 -1.093314e+01 -4.480774e+01 -2.836627e+00   \n",
              "25%    ... -2.283949e-01 -5.423504e-01 -1.618463e-01 -3.545861e-01   \n",
              "50%    ... -2.945017e-02  6.781943e-03 -1.119293e-02  4.097606e-02   \n",
              "75%    ...  1.863772e-01  5.285536e-01  1.476421e-01  4.395266e-01   \n",
              "max    ...  2.720284e+01  1.050309e+01  2.252841e+01  4.584549e+00   \n",
              "\n",
              "                V25           V26           V27           V28         Amount  \\\n",
              "count  2.848070e+05  2.848070e+05  2.848070e+05  2.848070e+05  284807.000000   \n",
              "mean   1.453003e-15  1.699104e-15 -3.660161e-16 -1.206049e-16      88.349619   \n",
              "std    5.212781e-01  4.822270e-01  4.036325e-01  3.300833e-01     250.120109   \n",
              "min   -1.029540e+01 -2.604551e+00 -2.256568e+01 -1.543008e+01       0.000000   \n",
              "25%   -3.171451e-01 -3.269839e-01 -7.083953e-02 -5.295979e-02       5.600000   \n",
              "50%    1.659350e-02 -5.213911e-02  1.342146e-03  1.124383e-02      22.000000   \n",
              "75%    3.507156e-01  2.409522e-01  9.104512e-02  7.827995e-02      77.165000   \n",
              "max    7.519589e+00  3.517346e+00  3.161220e+01  3.384781e+01   25691.160000   \n",
              "\n",
              "               Class  \n",
              "count  284807.000000  \n",
              "mean        0.001727  \n",
              "std         0.041527  \n",
              "min         0.000000  \n",
              "25%         0.000000  \n",
              "50%         0.000000  \n",
              "75%         0.000000  \n",
              "max         1.000000  \n",
              "\n",
              "[8 rows x 31 columns]"
            ]
          },
          "metadata": {
            "tags": []
          },
          "execution_count": 4
        }
      ]
    },
    {
      "cell_type": "code",
      "metadata": {
        "id": "Rp6ZzVtK7xGr",
        "colab_type": "code",
        "colab": {},
        "outputId": "6c160c0c-6760-43fc-8d0f-fd3654ded339"
      },
      "source": [
        "#Well let's see all the columns in the dataset \n",
        "df.columns"
      ],
      "execution_count": 0,
      "outputs": [
        {
          "output_type": "execute_result",
          "data": {
            "text/plain": [
              "Index(['Time', 'V1', 'V2', 'V3', 'V4', 'V5', 'V6', 'V7', 'V8', 'V9', 'V10',\n",
              "       'V11', 'V12', 'V13', 'V14', 'V15', 'V16', 'V17', 'V18', 'V19', 'V20',\n",
              "       'V21', 'V22', 'V23', 'V24', 'V25', 'V26', 'V27', 'V28', 'Amount',\n",
              "       'Class'],\n",
              "      dtype='object')"
            ]
          },
          "metadata": {
            "tags": []
          },
          "execution_count": 5
        }
      ]
    },
    {
      "cell_type": "code",
      "metadata": {
        "id": "X4obuP2B7xGt",
        "colab_type": "code",
        "colab": {},
        "outputId": "e614e02f-d661-43e0-efc3-e6170d209c6a"
      },
      "source": [
        "#A brief look at the initial rows of the dataset \n",
        "df.head()"
      ],
      "execution_count": 0,
      "outputs": [
        {
          "output_type": "execute_result",
          "data": {
            "text/html": [
              "<div>\n",
              "<style scoped>\n",
              "    .dataframe tbody tr th:only-of-type {\n",
              "        vertical-align: middle;\n",
              "    }\n",
              "\n",
              "    .dataframe tbody tr th {\n",
              "        vertical-align: top;\n",
              "    }\n",
              "\n",
              "    .dataframe thead th {\n",
              "        text-align: right;\n",
              "    }\n",
              "</style>\n",
              "<table border=\"1\" class=\"dataframe\">\n",
              "  <thead>\n",
              "    <tr style=\"text-align: right;\">\n",
              "      <th></th>\n",
              "      <th>Time</th>\n",
              "      <th>V1</th>\n",
              "      <th>V2</th>\n",
              "      <th>V3</th>\n",
              "      <th>V4</th>\n",
              "      <th>V5</th>\n",
              "      <th>V6</th>\n",
              "      <th>V7</th>\n",
              "      <th>V8</th>\n",
              "      <th>V9</th>\n",
              "      <th>...</th>\n",
              "      <th>V21</th>\n",
              "      <th>V22</th>\n",
              "      <th>V23</th>\n",
              "      <th>V24</th>\n",
              "      <th>V25</th>\n",
              "      <th>V26</th>\n",
              "      <th>V27</th>\n",
              "      <th>V28</th>\n",
              "      <th>Amount</th>\n",
              "      <th>Class</th>\n",
              "    </tr>\n",
              "  </thead>\n",
              "  <tbody>\n",
              "    <tr>\n",
              "      <th>0</th>\n",
              "      <td>0.0</td>\n",
              "      <td>-1.359807</td>\n",
              "      <td>-0.072781</td>\n",
              "      <td>2.536347</td>\n",
              "      <td>1.378155</td>\n",
              "      <td>-0.338321</td>\n",
              "      <td>0.462388</td>\n",
              "      <td>0.239599</td>\n",
              "      <td>0.098698</td>\n",
              "      <td>0.363787</td>\n",
              "      <td>...</td>\n",
              "      <td>-0.018307</td>\n",
              "      <td>0.277838</td>\n",
              "      <td>-0.110474</td>\n",
              "      <td>0.066928</td>\n",
              "      <td>0.128539</td>\n",
              "      <td>-0.189115</td>\n",
              "      <td>0.133558</td>\n",
              "      <td>-0.021053</td>\n",
              "      <td>149.62</td>\n",
              "      <td>0</td>\n",
              "    </tr>\n",
              "    <tr>\n",
              "      <th>1</th>\n",
              "      <td>0.0</td>\n",
              "      <td>1.191857</td>\n",
              "      <td>0.266151</td>\n",
              "      <td>0.166480</td>\n",
              "      <td>0.448154</td>\n",
              "      <td>0.060018</td>\n",
              "      <td>-0.082361</td>\n",
              "      <td>-0.078803</td>\n",
              "      <td>0.085102</td>\n",
              "      <td>-0.255425</td>\n",
              "      <td>...</td>\n",
              "      <td>-0.225775</td>\n",
              "      <td>-0.638672</td>\n",
              "      <td>0.101288</td>\n",
              "      <td>-0.339846</td>\n",
              "      <td>0.167170</td>\n",
              "      <td>0.125895</td>\n",
              "      <td>-0.008983</td>\n",
              "      <td>0.014724</td>\n",
              "      <td>2.69</td>\n",
              "      <td>0</td>\n",
              "    </tr>\n",
              "    <tr>\n",
              "      <th>2</th>\n",
              "      <td>1.0</td>\n",
              "      <td>-1.358354</td>\n",
              "      <td>-1.340163</td>\n",
              "      <td>1.773209</td>\n",
              "      <td>0.379780</td>\n",
              "      <td>-0.503198</td>\n",
              "      <td>1.800499</td>\n",
              "      <td>0.791461</td>\n",
              "      <td>0.247676</td>\n",
              "      <td>-1.514654</td>\n",
              "      <td>...</td>\n",
              "      <td>0.247998</td>\n",
              "      <td>0.771679</td>\n",
              "      <td>0.909412</td>\n",
              "      <td>-0.689281</td>\n",
              "      <td>-0.327642</td>\n",
              "      <td>-0.139097</td>\n",
              "      <td>-0.055353</td>\n",
              "      <td>-0.059752</td>\n",
              "      <td>378.66</td>\n",
              "      <td>0</td>\n",
              "    </tr>\n",
              "    <tr>\n",
              "      <th>3</th>\n",
              "      <td>1.0</td>\n",
              "      <td>-0.966272</td>\n",
              "      <td>-0.185226</td>\n",
              "      <td>1.792993</td>\n",
              "      <td>-0.863291</td>\n",
              "      <td>-0.010309</td>\n",
              "      <td>1.247203</td>\n",
              "      <td>0.237609</td>\n",
              "      <td>0.377436</td>\n",
              "      <td>-1.387024</td>\n",
              "      <td>...</td>\n",
              "      <td>-0.108300</td>\n",
              "      <td>0.005274</td>\n",
              "      <td>-0.190321</td>\n",
              "      <td>-1.175575</td>\n",
              "      <td>0.647376</td>\n",
              "      <td>-0.221929</td>\n",
              "      <td>0.062723</td>\n",
              "      <td>0.061458</td>\n",
              "      <td>123.50</td>\n",
              "      <td>0</td>\n",
              "    </tr>\n",
              "    <tr>\n",
              "      <th>4</th>\n",
              "      <td>2.0</td>\n",
              "      <td>-1.158233</td>\n",
              "      <td>0.877737</td>\n",
              "      <td>1.548718</td>\n",
              "      <td>0.403034</td>\n",
              "      <td>-0.407193</td>\n",
              "      <td>0.095921</td>\n",
              "      <td>0.592941</td>\n",
              "      <td>-0.270533</td>\n",
              "      <td>0.817739</td>\n",
              "      <td>...</td>\n",
              "      <td>-0.009431</td>\n",
              "      <td>0.798278</td>\n",
              "      <td>-0.137458</td>\n",
              "      <td>0.141267</td>\n",
              "      <td>-0.206010</td>\n",
              "      <td>0.502292</td>\n",
              "      <td>0.219422</td>\n",
              "      <td>0.215153</td>\n",
              "      <td>69.99</td>\n",
              "      <td>0</td>\n",
              "    </tr>\n",
              "  </tbody>\n",
              "</table>\n",
              "<p>5 rows × 31 columns</p>\n",
              "</div>"
            ],
            "text/plain": [
              "   Time        V1        V2        V3        V4        V5        V6        V7  \\\n",
              "0   0.0 -1.359807 -0.072781  2.536347  1.378155 -0.338321  0.462388  0.239599   \n",
              "1   0.0  1.191857  0.266151  0.166480  0.448154  0.060018 -0.082361 -0.078803   \n",
              "2   1.0 -1.358354 -1.340163  1.773209  0.379780 -0.503198  1.800499  0.791461   \n",
              "3   1.0 -0.966272 -0.185226  1.792993 -0.863291 -0.010309  1.247203  0.237609   \n",
              "4   2.0 -1.158233  0.877737  1.548718  0.403034 -0.407193  0.095921  0.592941   \n",
              "\n",
              "         V8        V9  ...       V21       V22       V23       V24       V25  \\\n",
              "0  0.098698  0.363787  ... -0.018307  0.277838 -0.110474  0.066928  0.128539   \n",
              "1  0.085102 -0.255425  ... -0.225775 -0.638672  0.101288 -0.339846  0.167170   \n",
              "2  0.247676 -1.514654  ...  0.247998  0.771679  0.909412 -0.689281 -0.327642   \n",
              "3  0.377436 -1.387024  ... -0.108300  0.005274 -0.190321 -1.175575  0.647376   \n",
              "4 -0.270533  0.817739  ... -0.009431  0.798278 -0.137458  0.141267 -0.206010   \n",
              "\n",
              "        V26       V27       V28  Amount  Class  \n",
              "0 -0.189115  0.133558 -0.021053  149.62      0  \n",
              "1  0.125895 -0.008983  0.014724    2.69      0  \n",
              "2 -0.139097 -0.055353 -0.059752  378.66      0  \n",
              "3 -0.221929  0.062723  0.061458  123.50      0  \n",
              "4  0.502292  0.219422  0.215153   69.99      0  \n",
              "\n",
              "[5 rows x 31 columns]"
            ]
          },
          "metadata": {
            "tags": []
          },
          "execution_count": 6
        }
      ]
    },
    {
      "cell_type": "code",
      "metadata": {
        "scrolled": true,
        "id": "7OsNA-l07xGv",
        "colab_type": "code",
        "colab": {}
      },
      "source": [
        "#It's good to shuffle the datset \n",
        "df = df.sample(frac=1, random_state=42).reset_index(drop=True)"
      ],
      "execution_count": 0,
      "outputs": []
    },
    {
      "cell_type": "code",
      "metadata": {
        "id": "wZ6fTnia7xGy",
        "colab_type": "code",
        "colab": {},
        "outputId": "b57f0843-bd0b-44ad-e7dc-fa0b2f3e82c6"
      },
      "source": [
        "#Let's take a look again \n",
        "df.head()"
      ],
      "execution_count": 0,
      "outputs": [
        {
          "output_type": "execute_result",
          "data": {
            "text/html": [
              "<div>\n",
              "<style scoped>\n",
              "    .dataframe tbody tr th:only-of-type {\n",
              "        vertical-align: middle;\n",
              "    }\n",
              "\n",
              "    .dataframe tbody tr th {\n",
              "        vertical-align: top;\n",
              "    }\n",
              "\n",
              "    .dataframe thead th {\n",
              "        text-align: right;\n",
              "    }\n",
              "</style>\n",
              "<table border=\"1\" class=\"dataframe\">\n",
              "  <thead>\n",
              "    <tr style=\"text-align: right;\">\n",
              "      <th></th>\n",
              "      <th>Time</th>\n",
              "      <th>V1</th>\n",
              "      <th>V2</th>\n",
              "      <th>V3</th>\n",
              "      <th>V4</th>\n",
              "      <th>V5</th>\n",
              "      <th>V6</th>\n",
              "      <th>V7</th>\n",
              "      <th>V8</th>\n",
              "      <th>V9</th>\n",
              "      <th>...</th>\n",
              "      <th>V21</th>\n",
              "      <th>V22</th>\n",
              "      <th>V23</th>\n",
              "      <th>V24</th>\n",
              "      <th>V25</th>\n",
              "      <th>V26</th>\n",
              "      <th>V27</th>\n",
              "      <th>V28</th>\n",
              "      <th>Amount</th>\n",
              "      <th>Class</th>\n",
              "    </tr>\n",
              "  </thead>\n",
              "  <tbody>\n",
              "    <tr>\n",
              "      <th>0</th>\n",
              "      <td>41505.0</td>\n",
              "      <td>-16.526507</td>\n",
              "      <td>8.584972</td>\n",
              "      <td>-18.649853</td>\n",
              "      <td>9.505594</td>\n",
              "      <td>-13.793819</td>\n",
              "      <td>-2.832404</td>\n",
              "      <td>-16.701694</td>\n",
              "      <td>7.517344</td>\n",
              "      <td>-8.507059</td>\n",
              "      <td>...</td>\n",
              "      <td>1.190739</td>\n",
              "      <td>-1.127670</td>\n",
              "      <td>-2.358579</td>\n",
              "      <td>0.673461</td>\n",
              "      <td>-1.413700</td>\n",
              "      <td>-0.462762</td>\n",
              "      <td>-2.018575</td>\n",
              "      <td>-1.042804</td>\n",
              "      <td>364.19</td>\n",
              "      <td>1</td>\n",
              "    </tr>\n",
              "    <tr>\n",
              "      <th>1</th>\n",
              "      <td>44261.0</td>\n",
              "      <td>0.339812</td>\n",
              "      <td>-2.743745</td>\n",
              "      <td>-0.134070</td>\n",
              "      <td>-1.385729</td>\n",
              "      <td>-1.451413</td>\n",
              "      <td>1.015887</td>\n",
              "      <td>-0.524379</td>\n",
              "      <td>0.224060</td>\n",
              "      <td>0.899746</td>\n",
              "      <td>...</td>\n",
              "      <td>-0.213436</td>\n",
              "      <td>-0.942525</td>\n",
              "      <td>-0.526819</td>\n",
              "      <td>-1.156992</td>\n",
              "      <td>0.311211</td>\n",
              "      <td>-0.746647</td>\n",
              "      <td>0.040996</td>\n",
              "      <td>0.102038</td>\n",
              "      <td>520.12</td>\n",
              "      <td>0</td>\n",
              "    </tr>\n",
              "    <tr>\n",
              "      <th>2</th>\n",
              "      <td>35484.0</td>\n",
              "      <td>1.399590</td>\n",
              "      <td>-0.590701</td>\n",
              "      <td>0.168619</td>\n",
              "      <td>-1.029950</td>\n",
              "      <td>-0.539806</td>\n",
              "      <td>0.040444</td>\n",
              "      <td>-0.712567</td>\n",
              "      <td>0.002299</td>\n",
              "      <td>-0.971747</td>\n",
              "      <td>...</td>\n",
              "      <td>0.102398</td>\n",
              "      <td>0.168269</td>\n",
              "      <td>-0.166639</td>\n",
              "      <td>-0.810250</td>\n",
              "      <td>0.505083</td>\n",
              "      <td>-0.232340</td>\n",
              "      <td>0.011409</td>\n",
              "      <td>0.004634</td>\n",
              "      <td>31.00</td>\n",
              "      <td>0</td>\n",
              "    </tr>\n",
              "    <tr>\n",
              "      <th>3</th>\n",
              "      <td>167123.0</td>\n",
              "      <td>-0.432071</td>\n",
              "      <td>1.647895</td>\n",
              "      <td>-1.669361</td>\n",
              "      <td>-0.349504</td>\n",
              "      <td>0.785785</td>\n",
              "      <td>-0.630647</td>\n",
              "      <td>0.276990</td>\n",
              "      <td>0.586025</td>\n",
              "      <td>-0.484715</td>\n",
              "      <td>...</td>\n",
              "      <td>0.358932</td>\n",
              "      <td>0.873663</td>\n",
              "      <td>-0.178642</td>\n",
              "      <td>-0.017171</td>\n",
              "      <td>-0.207392</td>\n",
              "      <td>-0.157756</td>\n",
              "      <td>-0.237386</td>\n",
              "      <td>0.001934</td>\n",
              "      <td>1.50</td>\n",
              "      <td>0</td>\n",
              "    </tr>\n",
              "    <tr>\n",
              "      <th>4</th>\n",
              "      <td>168473.0</td>\n",
              "      <td>2.014160</td>\n",
              "      <td>-0.137394</td>\n",
              "      <td>-1.015839</td>\n",
              "      <td>0.327269</td>\n",
              "      <td>-0.182179</td>\n",
              "      <td>-0.956571</td>\n",
              "      <td>0.043241</td>\n",
              "      <td>-0.160746</td>\n",
              "      <td>0.363241</td>\n",
              "      <td>...</td>\n",
              "      <td>-0.238644</td>\n",
              "      <td>-0.616400</td>\n",
              "      <td>0.347045</td>\n",
              "      <td>0.061561</td>\n",
              "      <td>-0.360196</td>\n",
              "      <td>0.174730</td>\n",
              "      <td>-0.078043</td>\n",
              "      <td>-0.070571</td>\n",
              "      <td>0.89</td>\n",
              "      <td>0</td>\n",
              "    </tr>\n",
              "  </tbody>\n",
              "</table>\n",
              "<p>5 rows × 31 columns</p>\n",
              "</div>"
            ],
            "text/plain": [
              "       Time         V1        V2         V3        V4         V5        V6  \\\n",
              "0   41505.0 -16.526507  8.584972 -18.649853  9.505594 -13.793819 -2.832404   \n",
              "1   44261.0   0.339812 -2.743745  -0.134070 -1.385729  -1.451413  1.015887   \n",
              "2   35484.0   1.399590 -0.590701   0.168619 -1.029950  -0.539806  0.040444   \n",
              "3  167123.0  -0.432071  1.647895  -1.669361 -0.349504   0.785785 -0.630647   \n",
              "4  168473.0   2.014160 -0.137394  -1.015839  0.327269  -0.182179 -0.956571   \n",
              "\n",
              "          V7        V8        V9  ...       V21       V22       V23       V24  \\\n",
              "0 -16.701694  7.517344 -8.507059  ...  1.190739 -1.127670 -2.358579  0.673461   \n",
              "1  -0.524379  0.224060  0.899746  ... -0.213436 -0.942525 -0.526819 -1.156992   \n",
              "2  -0.712567  0.002299 -0.971747  ...  0.102398  0.168269 -0.166639 -0.810250   \n",
              "3   0.276990  0.586025 -0.484715  ...  0.358932  0.873663 -0.178642 -0.017171   \n",
              "4   0.043241 -0.160746  0.363241  ... -0.238644 -0.616400  0.347045  0.061561   \n",
              "\n",
              "        V25       V26       V27       V28  Amount  Class  \n",
              "0 -1.413700 -0.462762 -2.018575 -1.042804  364.19      1  \n",
              "1  0.311211 -0.746647  0.040996  0.102038  520.12      0  \n",
              "2  0.505083 -0.232340  0.011409  0.004634   31.00      0  \n",
              "3 -0.207392 -0.157756 -0.237386  0.001934    1.50      0  \n",
              "4 -0.360196  0.174730 -0.078043 -0.070571    0.89      0  \n",
              "\n",
              "[5 rows x 31 columns]"
            ]
          },
          "metadata": {
            "tags": []
          },
          "execution_count": 8
        }
      ]
    },
    {
      "cell_type": "code",
      "metadata": {
        "id": "_g9dKmvq7xGz",
        "colab_type": "code",
        "colab": {},
        "outputId": "3069958d-08da-469e-dc17-6e1e4247758a"
      },
      "source": [
        "#Non fradulant cases\n",
        "df.Class.value_counts()[0]"
      ],
      "execution_count": 0,
      "outputs": [
        {
          "output_type": "execute_result",
          "data": {
            "text/plain": [
              "284315"
            ]
          },
          "metadata": {
            "tags": []
          },
          "execution_count": 5
        }
      ]
    },
    {
      "cell_type": "code",
      "metadata": {
        "id": "ULOtq22F7xG1",
        "colab_type": "code",
        "colab": {},
        "outputId": "6c1d4b17-e68e-450a-938e-fdc62a03c4f4"
      },
      "source": [
        "#Fradulant cases \n",
        "df.Class.value_counts()[1]"
      ],
      "execution_count": 0,
      "outputs": [
        {
          "output_type": "execute_result",
          "data": {
            "text/plain": [
              "492"
            ]
          },
          "metadata": {
            "tags": []
          },
          "execution_count": 6
        }
      ]
    },
    {
      "cell_type": "code",
      "metadata": {
        "id": "xEcVeodD7xG4",
        "colab_type": "code",
        "colab": {},
        "outputId": "b9ac08f4-be39-4f6d-86f5-19b8e394430c"
      },
      "source": [
        "print('Percentage of correct transactions: {}'.format((df.Class.value_counts()[0]/df.shape[0])*100))"
      ],
      "execution_count": 0,
      "outputs": [
        {
          "output_type": "stream",
          "text": [
            "Percentage of correct transactions: 99.82725143693798\n"
          ],
          "name": "stdout"
        }
      ]
    },
    {
      "cell_type": "code",
      "metadata": {
        "id": "liY0KSjc7xG5",
        "colab_type": "code",
        "colab": {},
        "outputId": "2b208b8b-a7fd-4d72-cfa6-10bc80c3d307"
      },
      "source": [
        "print('Percentage of fradulent transactions: {}'.format((df.Class.value_counts()[1]/df.shape[0])*100))"
      ],
      "execution_count": 0,
      "outputs": [
        {
          "output_type": "stream",
          "text": [
            "Percentage of fradulent transactions: 0.1727485630620034\n"
          ],
          "name": "stdout"
        }
      ]
    },
    {
      "cell_type": "code",
      "metadata": {
        "id": "h_-7tzND7xG7",
        "colab_type": "code",
        "colab": {},
        "outputId": "cdb5b5e5-02a0-4262-f41f-a455bbd92833"
      },
      "source": [
        "#Let's visualize the distribution of the classes (0 means safe and 1 means fraudulent)\n",
        "import seaborn as sns\n",
        "colors = ['green', 'red']\n",
        "\n",
        "sns.countplot('Class', data=df, palette=colors)\n",
        "plt.title('Normal v/s Fraudulent')"
      ],
      "execution_count": 0,
      "outputs": [
        {
          "output_type": "execute_result",
          "data": {
            "text/plain": [
              "Text(0.5, 1.0, 'Normal v/s Fraudulent')"
            ]
          },
          "metadata": {
            "tags": []
          },
          "execution_count": 9
        },
        {
          "output_type": "display_data",
          "data": {
            "image/png": "[encoded data removed]",
            "text/plain": [
              "<Figure size 432x288 with 1 Axes>"
            ]
          },
          "metadata": {
            "tags": [],
            "needs_background": "light"
          }
        }
      ]
    },
    {
      "cell_type": "code",
      "metadata": {
        "id": "rJlyy0MW7xG9",
        "colab_type": "code",
        "colab": {},
        "outputId": "66d0a359-1e5d-4ac8-bbff-bc81d403ad3e"
      },
      "source": [
        "#Now let's map how much a feature affects our class \n",
        "cor = df.corr()\n",
        "fig = plt.figure(figsize = (12, 9))\n",
        "\n",
        "#Plotting the heatmap\n",
        "sns.heatmap(cor, vmax = 0.7)\n",
        "plt.show()"
      ],
      "execution_count": 0,
      "outputs": [
        {
          "output_type": "display_data",
          "data": {
            "image/png": "[encoded data removed]",
            "text/plain": [
              "<Figure size 864x648 with 2 Axes>"
            ]
          },
          "metadata": {
            "tags": [],
            "needs_background": "light"
          }
        }
      ]
    },
    {
      "cell_type": "code",
      "metadata": {
        "id": "aJ6gAgDl7xG-",
        "colab_type": "code",
        "colab": {},
        "outputId": "2e628b12-74e8-4729-c24e-b3622f450501"
      },
      "source": [
        "cor.shape"
      ],
      "execution_count": 0,
      "outputs": [
        {
          "output_type": "execute_result",
          "data": {
            "text/plain": [
              "(31, 31)"
            ]
          },
          "metadata": {
            "tags": []
          },
          "execution_count": 15
        }
      ]
    },
    {
      "cell_type": "code",
      "metadata": {
        "id": "Nmp7y3kO7xHA",
        "colab_type": "code",
        "colab": {},
        "outputId": "300bec1a-d5b3-4c6a-dfe7-06495e8c2bca"
      },
      "source": [
        "#This is how much a each feature affects the our class \n",
        "cor.iloc[-1,:]"
      ],
      "execution_count": 0,
      "outputs": [
        {
          "output_type": "execute_result",
          "data": {
            "text/plain": [
              "Time     -0.012323\n",
              "V1       -0.101347\n",
              "V2        0.091289\n",
              "V3       -0.192961\n",
              "V4        0.133447\n",
              "V5       -0.094974\n",
              "V6       -0.043643\n",
              "V7       -0.187257\n",
              "V8        0.019875\n",
              "V9       -0.097733\n",
              "V10      -0.216883\n",
              "V11       0.154876\n",
              "V12      -0.260593\n",
              "V13      -0.004570\n",
              "V14      -0.302544\n",
              "V15      -0.004223\n",
              "V16      -0.196539\n",
              "V17      -0.326481\n",
              "V18      -0.111485\n",
              "V19       0.034783\n",
              "V20       0.020090\n",
              "V21       0.040413\n",
              "V22       0.000805\n",
              "V23      -0.002685\n",
              "V24      -0.007221\n",
              "V25       0.003308\n",
              "V26       0.004455\n",
              "V27       0.017580\n",
              "V28       0.009536\n",
              "Amount    0.005632\n",
              "Class     1.000000\n",
              "Name: Class, dtype: float64"
            ]
          },
          "metadata": {
            "tags": []
          },
          "execution_count": 16
        }
      ]
    },
    {
      "cell_type": "code",
      "metadata": {
        "id": "Uy6UUIuO7xHC",
        "colab_type": "code",
        "colab": {}
      },
      "source": [
        "#We need to delet the least and greatest values \n",
        "#From above analysis I've selected the following features \n",
        "#Note that I've included the class variable also because I intend to create a new dataframe using the new features\n",
        "new_features=['V1','V3','V4','V7','V10','V11','V12','V14','V16','V17','V18','Class']"
      ],
      "execution_count": 0,
      "outputs": []
    },
    {
      "cell_type": "code",
      "metadata": {
        "id": "QuYxmZ-97xHD",
        "colab_type": "code",
        "colab": {},
        "outputId": "04f9ff78-1b65-4c72-a63b-8e3aa97158d9"
      },
      "source": [
        "#Let's plot a heatmap again and see the relationship\n",
        "cor = df[new_features].corr()\n",
        "fig = plt.figure(figsize = (12, 9))\n",
        "\n",
        "#Plotting the heatmap\n",
        "sns.heatmap(cor, vmax = 0.7)\n",
        "plt.show()"
      ],
      "execution_count": 0,
      "outputs": [
        {
          "output_type": "display_data",
          "data": {
            "image/png": "[encoded data removed]",
            "text/plain": [
              "<Figure size 864x648 with 2 Axes>"
            ]
          },
          "metadata": {
            "tags": [],
            "needs_background": "light"
          }
        }
      ]
    },
    {
      "cell_type": "code",
      "metadata": {
        "id": "jl1MV5cW7xHF",
        "colab_type": "code",
        "colab": {}
      },
      "source": [
        "#We see that the class rows and columns are darker and brighter \n",
        "#This means that all the variables in our new dataset have a significant affect "
      ],
      "execution_count": 0,
      "outputs": []
    },
    {
      "cell_type": "code",
      "metadata": {
        "id": "OqQGQVr27xHG",
        "colab_type": "code",
        "colab": {}
      },
      "source": [
        "#Now splitting the dataset into the dependent variable(y) and independent variales(x)\n",
        "x=df[new_features].iloc[:,:-1].values\n",
        "y=df[new_features].iloc[:,-1].values"
      ],
      "execution_count": 0,
      "outputs": []
    },
    {
      "cell_type": "code",
      "metadata": {
        "id": "9WsdWgLY7xHN",
        "colab_type": "code",
        "colab": {}
      },
      "source": [
        "#Withoud reducing the features \n",
        "#x=df.iloc[:,:-1].values\n",
        "#y=df.iloc[:,-1].values\n",
        "#Feel free to try using all the features :)"
      ],
      "execution_count": 0,
      "outputs": []
    },
    {
      "cell_type": "code",
      "metadata": {
        "id": "7D1qysuQ7xHT",
        "colab_type": "code",
        "colab": {},
        "outputId": "4aea8c55-0f13-4bca-f657-1b88faff2d10"
      },
      "source": [
        "x.shape"
      ],
      "execution_count": 0,
      "outputs": [
        {
          "output_type": "execute_result",
          "data": {
            "text/plain": [
              "(284807, 11)"
            ]
          },
          "metadata": {
            "tags": []
          },
          "execution_count": 14
        }
      ]
    },
    {
      "cell_type": "code",
      "metadata": {
        "id": "W1nSVNer7xHZ",
        "colab_type": "code",
        "colab": {},
        "outputId": "f7205c7a-ce89-4d94-b8d2-c90271df54aa"
      },
      "source": [
        "y.shape"
      ],
      "execution_count": 0,
      "outputs": [
        {
          "output_type": "execute_result",
          "data": {
            "text/plain": [
              "(284807,)"
            ]
          },
          "metadata": {
            "tags": []
          },
          "execution_count": 15
        }
      ]
    },
    {
      "cell_type": "code",
      "metadata": {
        "id": "3-J9jgJa7xHc",
        "colab_type": "code",
        "colab": {},
        "outputId": "11902b69-1d7e-4be6-fbee-cd848ea55d4e"
      },
      "source": [
        "x[:5]"
      ],
      "execution_count": 0,
      "outputs": [
        {
          "output_type": "execute_result",
          "data": {
            "text/plain": [
              "array([[-1.35980713,  2.53634674,  1.37815522,  0.23959855,  0.09079417,\n",
              "        -0.55159953, -0.61780086, -0.31116935, -0.47040053,  0.20797124,\n",
              "         0.02579058],\n",
              "       [ 1.19185711,  0.16648011,  0.44815408, -0.07880298, -0.16697441,\n",
              "         1.61272666,  1.06523531, -0.1437723 ,  0.46391704, -0.11480466,\n",
              "        -0.18336127],\n",
              "       [-1.35835406,  1.77320934,  0.37977959,  0.79146096,  0.20764287,\n",
              "         0.62450146,  0.06608369, -0.16594592, -2.89008319,  1.10996938,\n",
              "        -0.12135931],\n",
              "       [-0.96627171,  1.79299334, -0.86329128,  0.23760894, -0.05495192,\n",
              "        -0.22648726,  0.17822823, -0.28792375, -1.05964725, -0.68409279,\n",
              "         1.965775  ],\n",
              "       [-1.15823309,  1.54871785,  0.40303393,  0.59294075,  0.75307443,\n",
              "        -0.82284288,  0.53819555, -1.11966983, -0.45144918, -0.23703324,\n",
              "        -0.03819479]])"
            ]
          },
          "metadata": {
            "tags": []
          },
          "execution_count": 16
        }
      ]
    },
    {
      "cell_type": "code",
      "metadata": {
        "id": "evIdLqZ27xHe",
        "colab_type": "code",
        "colab": {},
        "outputId": "d33008b0-6b8a-4ac0-f3ab-ffa6646b5020"
      },
      "source": [
        "y[:5]"
      ],
      "execution_count": 0,
      "outputs": [
        {
          "output_type": "execute_result",
          "data": {
            "text/plain": [
              "array([0, 0, 0, 0, 0])"
            ]
          },
          "metadata": {
            "tags": []
          },
          "execution_count": 17
        }
      ]
    },
    {
      "cell_type": "code",
      "metadata": {
        "id": "HoI5pk3R7xI_",
        "colab_type": "code",
        "colab": {}
      },
      "source": [
        "#Spliting the data into train and test sets \n",
        "from sklearn.model_selection import train_test_split\n",
        "x_train, x_test, y_train, y_test = train_test_split(x, y, test_size = 0.25, random_state = 0)\n"
      ],
      "execution_count": 0,
      "outputs": []
    },
    {
      "cell_type": "code",
      "metadata": {
        "id": "tZOvLj607xJB",
        "colab_type": "code",
        "colab": {},
        "outputId": "b4349516-0e89-4f67-d316-188a51e4fd79"
      },
      "source": [
        "#Let's see how many safe and fraudulent cases are there in training set \n",
        "safe_train=(y_train==0).sum()\n",
        "fraud_train=(y_train==1).sum()\n",
        "print(\"Safe: {} \\nFraud: {}\".format(safe_train,fraud_train))"
      ],
      "execution_count": 0,
      "outputs": [
        {
          "output_type": "stream",
          "text": [
            "Safe: 213233 \n",
            "Fraud: 372\n"
          ],
          "name": "stdout"
        }
      ]
    },
    {
      "cell_type": "code",
      "metadata": {
        "id": "RoKfd5WH7xJD",
        "colab_type": "code",
        "colab": {},
        "outputId": "210d0a37-c43e-4296-81c3-75bce4fbbcff"
      },
      "source": [
        "#Let's see how many safe and fraudulent cases are there in test set \n",
        "safe_test=(y_test==0).sum()\n",
        "fraud_test=(y_test==1).sum()\n",
        "print(\"Safe: {} \\nFraud: {}\".format(safe_test,fraud_test))"
      ],
      "execution_count": 0,
      "outputs": [
        {
          "output_type": "stream",
          "text": [
            "Safe: 71082 \n",
            "Fraud: 120\n"
          ],
          "name": "stdout"
        }
      ]
    },
    {
      "cell_type": "code",
      "metadata": {
        "id": "x9kRh1id7xJF",
        "colab_type": "code",
        "colab": {}
      },
      "source": [
        "from sklearn.linear_model import LogisticRegression\n",
        "from sklearn.metrics import accuracy_score, f1_score, precision_score, recall_score, classification_report, confusion_matrix"
      ],
      "execution_count": 0,
      "outputs": []
    },
    {
      "cell_type": "code",
      "metadata": {
        "id": "s3u75qae7xJI",
        "colab_type": "code",
        "colab": {},
        "outputId": "bd464976-2907-4bc9-f203-bfe2aac7fc6f"
      },
      "source": [
        "#Using Logistic Regression \n",
        "clf = LogisticRegression(random_state = 0)\n",
        "clf.fit(x_train, y_train)"
      ],
      "execution_count": 0,
      "outputs": [
        {
          "output_type": "execute_result",
          "data": {
            "text/plain": [
              "LogisticRegression(C=1.0, class_weight=None, dual=False, fit_intercept=True,\n",
              "                   intercept_scaling=1, l1_ratio=None, max_iter=100,\n",
              "                   multi_class='warn', n_jobs=None, penalty='l2',\n",
              "                   random_state=0, solver='warn', tol=0.0001, verbose=0,\n",
              "                   warm_start=False)"
            ]
          },
          "metadata": {
            "tags": []
          },
          "execution_count": 23
        }
      ]
    },
    {
      "cell_type": "code",
      "metadata": {
        "scrolled": true,
        "id": "CRvA7rir7xJK",
        "colab_type": "code",
        "colab": {},
        "outputId": "2465993c-7a75-4bca-801b-edea520cdf21"
      },
      "source": [
        "#Let's evaluate our model \n",
        "y_pred = clf.predict(x_test)\n",
        "print(\"Training Accuracy: \",clf.score(x_train, y_train))\n",
        "print(\"Testing Accuracy: \", clf.score(x_test, y_test))\n",
        "cm = confusion_matrix(y_test, y_pred)\n",
        "print(cm)\n",
        "print(classification_report(y_test,y_pred)) "
      ],
      "execution_count": 0,
      "outputs": [
        {
          "output_type": "stream",
          "text": [
            "Training Accuracy:  0.999180730788137\n",
            "Testing Accuracy:  0.9992556388865481\n",
            "[[71072    10]\n",
            " [   43    77]]\n",
            "              precision    recall  f1-score   support\n",
            "\n",
            "           0       1.00      1.00      1.00     71082\n",
            "           1       0.89      0.64      0.74       120\n",
            "\n",
            "    accuracy                           1.00     71202\n",
            "   macro avg       0.94      0.82      0.87     71202\n",
            "weighted avg       1.00      1.00      1.00     71202\n",
            "\n"
          ],
          "name": "stdout"
        }
      ]
    },
    {
      "cell_type": "markdown",
      "metadata": {
        "id": "QStvdJ4I7xJM",
        "colab_type": "text"
      },
      "source": [
        "# Looking at the Accuracy fallacy \n",
        "\n",
        "## What it is ? \n",
        "If we look at the accuracy on test set, it's nearly 0.99914 i.e. over 99.9% accuracy.\n",
        "Does that mean our model is phenomenal? No!\n",
        "Before that let me tell you what a confusion matrix for binary classification represents \n",
        "We made the matrix between the actual values and predicted values, so the rows represent the actual values and columns respresent the predicted values. Now that you know what rows and colmns are let's understand what each cell represnt hence:\n",
        "1. [0][0] -> True positives i.e. how many safe cases are there that our model predicted correctly. Here 71069 are the number of CORRECTLY PREDICTED safe cases. \n",
        "2. [0][1] -> False Negatives i.e. how many safe cases are there that our model predicted incorrectly. Here 4 are the number of the MISCLASSIFIED safe cases. Hence 4 safe cases were misclassified as fraud. This is potentially less dangerous as it's better to stop some safe transactions with slightest chance of fraud.\n",
        "3. [1][0] -> False Positives i.e. how many fraud cases are there that our model predicted incorrectly. Here 57 are the number of the MISCLASSIFIED fraud cases. Here 57 fraud cases were misclassified as safe. This is very dangerous because we are letting the fraud cases pass through. This can cause huge loss to the organization. \n",
        "4. [1][1] -> True negatives i.e. how many fraud cases are there that our model predicted correctly. Here 72 are the number of CORRECTLY PREDICTED fraud cases.\n",
        "\n",
        "### We can see that despite having an accuracy over 99.9% our model predicted 57 fraud cases incorrectly. This is what I call accuracy fallacy.\n",
        "This usually happens when data is UNEVENLY DISTRIBUTED. From above code we realize that the number of fraud cases in training set is just 363 whereas the number of safe ones is 213242. This is very unevenly distributed and will give great accuracy but misclassify the dangerous classes.\n",
        "\n",
        "To give you a perspective, let me misclassify all the fraudulent cases.\n",
        "Let's predict every case as safe, so our confusion matrix for the test set is as follows:\n",
        "\n",
        "[[71073         0]\n",
        "\n",
        " [129           0]]\n",
        " \n",
        "So new accuracy = 71073/(71073 +  129) = 0.9981\n",
        "which is nearly 99.8% accuracy.\n",
        "Again great accuracy, terrible performance.\n",
        "\n",
        "## So how we measure model performance?\n",
        "\n",
        "### The answer is precision, recall, f1 score and AUC-ROC curve.\n",
        "Lets look at each one of them one by one\n",
        "![image.png](attachment:image.png)\n",
        "\n",
        "Image source : Wikipedia \n",
        "### Precision:\n",
        "Precision refers to the percentage of your results which are relevant and is calculated as follows : \n",
        "True Positives/(True Positives + Flase Positives)\n",
        "\n",
        "### Recall:\n",
        "Recall refers to the percentage of total relevant results correctly classified by your algorithm and is calculated as follows : True Positives/(True Positives + False Negatives)\n",
        "\n",
        "### F1 Score:\n",
        "It is the harmonic mean of precision and recall and is calculated as follows: \n",
        "(2 x Precision x Recall)/(Precision + Recall)\n",
        "\n",
        "## Hence the greater the F1 score the better it is\n",
        "In the above example we see that f1 score of safe class is 1 but that of fraud is 0.70 and hence the macro average is 0.85 \n",
        "\n",
        "### AUC-ROC curve (Area Under Curve - Receiver Operating Characteristic Curve):\n",
        "The True Positive Rate (TPR) is plot against False Positive Rate (FPR) for the probabilities of the classifier predictions. Then, the area under the plot is calculated. The greater the area under the curve the better our model is.\n",
        "\n",
        "TPR is also knowns as recall and hence = True Positives/(True Positives + False Negatives)\n",
        "\n",
        "FPR is negation of specificity = 1 - Specificity = 1- True Negatives/(True Negatives + False Positives) \n",
        "\n",
        "Hence FPR = False Positives/(True Negatives + False Positives)\n",
        "\n"
      ]
    },
    {
      "cell_type": "code",
      "metadata": {
        "id": "Spfyet6L7xJN",
        "colab_type": "code",
        "colab": {}
      },
      "source": [
        "from sklearn.metrics import roc_curve, auc"
      ],
      "execution_count": 0,
      "outputs": []
    },
    {
      "cell_type": "code",
      "metadata": {
        "id": "cbfGYb2B7xJO",
        "colab_type": "code",
        "colab": {}
      },
      "source": [
        "#Calculating the FPR and TPR\n",
        "fpr, tpr, thresholds = roc_curve(y_test, y_pred)\n",
        "roc_auc = auc(fpr, tpr)"
      ],
      "execution_count": 0,
      "outputs": []
    },
    {
      "cell_type": "code",
      "metadata": {
        "id": "ASQB8Xeo7xJQ",
        "colab_type": "code",
        "colab": {},
        "outputId": "ce063bc4-4085-487c-b774-9f96b2c5be8e"
      },
      "source": [
        "#Plotting the curves \n",
        "label = 'Logistic Regressoin Classifier AUC:' + ' {0:.2f}'.format(roc_auc)\n",
        "label2 = 'Random Model' \n",
        "plt.figure(figsize = (20, 12))\n",
        "plt.plot([0,1], [0,1], 'r--', label=label2)\n",
        "plt.plot(fpr, tpr, c = 'g', label = label, linewidth = 4)\n",
        "plt.xlabel('False Positive Rate', fontsize = 16)\n",
        "plt.ylabel('True Positive Rate', fontsize = 16)\n",
        "plt.title('Receiver Operating Characteristic', fontsize = 16)\n",
        "plt.legend(loc = 'lower right', fontsize = 16)"
      ],
      "execution_count": 0,
      "outputs": [
        {
          "output_type": "execute_result",
          "data": {
            "text/plain": [
              "<matplotlib.legend.Legend at 0x7fbbfae97400>"
            ]
          },
          "metadata": {
            "tags": []
          },
          "execution_count": 27
        },
        {
          "output_type": "display_data",
          "data": {
            "image/png": "[encoded data removed]",
            "text/plain": [
              "<Figure size 1440x864 with 1 Axes>"
            ]
          },
          "metadata": {
            "tags": [],
            "needs_background": "light"
          }
        }
      ]
    },
    {
      "cell_type": "code",
      "metadata": {
        "id": "NwJgFRGz7xJS",
        "colab_type": "code",
        "colab": {}
      },
      "source": [
        "#We see that AUC is 0.78 which is not bad, not great but fair enough"
      ],
      "execution_count": 0,
      "outputs": []
    },
    {
      "cell_type": "markdown",
      "metadata": {
        "id": "1tmE0l9J7xJU",
        "colab_type": "text"
      },
      "source": [
        "## Let's try a supervised anomaly detection algorithm KNN\n",
        "\n",
        "We use anomaly detection algorithm to find unusual patterns in the data. Since the data is unbalanced greatly and there must be some unusual patterns in data, let's try K Nearest Neighbours Algorithm "
      ]
    },
    {
      "cell_type": "code",
      "metadata": {
        "id": "0VrIZ7IU7xJV",
        "colab_type": "code",
        "colab": {},
        "outputId": "6e373cb0-44d3-4c30-f6ef-2d3869331a8f"
      },
      "source": [
        "from sklearn.neighbors import KNeighborsClassifier\n",
        "clf = KNeighborsClassifier(n_neighbors = 5, metric = 'minkowski', p = 2)\n",
        "clf.fit(x_train, y_train)"
      ],
      "execution_count": 0,
      "outputs": [
        {
          "output_type": "execute_result",
          "data": {
            "text/plain": [
              "KNeighborsClassifier(algorithm='auto', leaf_size=30, metric='minkowski',\n",
              "                     metric_params=None, n_jobs=None, n_neighbors=5, p=2,\n",
              "                     weights='uniform')"
            ]
          },
          "metadata": {
            "tags": []
          },
          "execution_count": 28
        }
      ]
    },
    {
      "cell_type": "code",
      "metadata": {
        "id": "c3rbtIj67xJX",
        "colab_type": "code",
        "colab": {}
      },
      "source": [
        "KNeighborsClassifier?"
      ],
      "execution_count": 0,
      "outputs": []
    },
    {
      "cell_type": "code",
      "metadata": {
        "id": "pRfI2uER7xJZ",
        "colab_type": "code",
        "colab": {},
        "outputId": "9b7cd640-0d4b-49dc-f334-d1f71aa75339"
      },
      "source": [
        "y_pred = clf.predict(x_test)\n",
        "print(\"Training Accuracy: \",clf.score(x_train, y_train))\n",
        "print(\"Testing Accuracy: \", clf.score(x_test, y_test))\n",
        "cm = confusion_matrix(y_test, y_pred)\n",
        "print(cm)\n",
        "print(classification_report(y_test,y_pred)) "
      ],
      "execution_count": 0,
      "outputs": [
        {
          "output_type": "stream",
          "text": [
            "Training Accuracy:  0.9995786615481848\n",
            "Testing Accuracy:  0.9995646189713772\n",
            "[[71076     6]\n",
            " [   25    95]]\n",
            "              precision    recall  f1-score   support\n",
            "\n",
            "           0       1.00      1.00      1.00     71082\n",
            "           1       0.94      0.79      0.86       120\n",
            "\n",
            "    accuracy                           1.00     71202\n",
            "   macro avg       0.97      0.90      0.93     71202\n",
            "weighted avg       1.00      1.00      1.00     71202\n",
            "\n"
          ],
          "name": "stdout"
        }
      ]
    },
    {
      "cell_type": "code",
      "metadata": {
        "id": "xrTczdu87xJb",
        "colab_type": "code",
        "colab": {}
      },
      "source": [
        "fpr, tpr, thresholds = roc_curve(y_test, y_pred)\n",
        "roc_auc = auc(fpr, tpr)"
      ],
      "execution_count": 0,
      "outputs": []
    },
    {
      "cell_type": "code",
      "metadata": {
        "id": "KVhhF5AX7xJf",
        "colab_type": "code",
        "colab": {},
        "outputId": "aa5dc743-d730-4e2b-fc9f-4e7e669e9f2b"
      },
      "source": [
        "label = 'KNN Classifier AUC:' + ' {0:.2f}'.format(roc_auc)\n",
        "label2 = 'Random Model' \n",
        "plt.figure(figsize = (20, 12))\n",
        "plt.plot([0,1], [0,1], 'r--', label=label2)\n",
        "plt.plot(fpr, tpr, c = 'g', label = label, linewidth = 4)\n",
        "plt.xlabel('False Positive Rate', fontsize = 16)\n",
        "plt.ylabel('True Positive Rate', fontsize = 16)\n",
        "plt.title('Receiver Operating Characteristic', fontsize = 16)\n",
        "plt.legend(loc = 'lower right', fontsize = 16)"
      ],
      "execution_count": 0,
      "outputs": [
        {
          "output_type": "execute_result",
          "data": {
            "text/plain": [
              "<matplotlib.legend.Legend at 0x7fbbfa272860>"
            ]
          },
          "metadata": {
            "tags": []
          },
          "execution_count": 32
        },
        {
          "output_type": "display_data",
          "data": {
            "image/png": "[encoded data removed]",
            "text/plain": [
              "<Figure size 1440x864 with 1 Axes>"
            ]
          },
          "metadata": {
            "tags": [],
            "needs_background": "light"
          }
        }
      ]
    },
    {
      "cell_type": "code",
      "metadata": {
        "id": "l3NefJXx7xJh",
        "colab_type": "code",
        "colab": {}
      },
      "source": [
        "#We see that AUC is 0.90 which is good, with different random state of data you may get different AUC.\n",
        "#I once achieved 0.94\n",
        "#Though I've kept a constant seed for random state wile shuffling the dataset, feel free to mess with that :D"
      ],
      "execution_count": 0,
      "outputs": []
    },
    {
      "cell_type": "markdown",
      "metadata": {
        "id": "FigritoT7xJi",
        "colab_type": "text"
      },
      "source": [
        "## Now let's try an unsupervised algorithm namely Isolation forest \n",
        "\n",
        "Since it is unsupervised, we don't need the target feature that is our class variable. Also we can use entire dataset instead of training on one and hence testing on the other\n",
        "\n",
        "Isolation forest tries to separate each point in the data. Here an anomalous point could be separated in a few steps while normal points which are closer could take significantly more steps to be segregated."
      ]
    },
    {
      "cell_type": "code",
      "metadata": {
        "id": "6Bbfx7a97xJj",
        "colab_type": "code",
        "colab": {},
        "outputId": "439f8fac-a1fa-451c-ac41-e343e794b146"
      },
      "source": [
        "(df.Class.value_counts()[1]/df.Class.value_counts()[0])"
      ],
      "execution_count": 0,
      "outputs": [
        {
          "output_type": "execute_result",
          "data": {
            "text/plain": [
              "0.0017304750013189597"
            ]
          },
          "metadata": {
            "tags": []
          },
          "execution_count": 41
        }
      ]
    },
    {
      "cell_type": "code",
      "metadata": {
        "id": "2ZjL8L0s7xJt",
        "colab_type": "code",
        "colab": {}
      },
      "source": [
        "IsolationForest?"
      ],
      "execution_count": 0,
      "outputs": []
    },
    {
      "cell_type": "code",
      "metadata": {
        "id": "azVACddS7xJx",
        "colab_type": "code",
        "colab": {},
        "outputId": "89d62c54-628a-4ecc-b464-d08ad5fbbd07"
      },
      "source": [
        "#Importing and fitting the Isolation Forest Algorithm \n",
        "from sklearn.ensemble import IsolationForest\n",
        "clf=IsolationForest(n_estimators=100,contamination=(df.Class.value_counts()[1]/df.shape[0]), random_state=42,max_features=x.shape[1])\n",
        "clf.fit(x)"
      ],
      "execution_count": 0,
      "outputs": [
        {
          "output_type": "execute_result",
          "data": {
            "text/plain": [
              "IsolationForest(behaviour='old', bootstrap=False,\n",
              "                contamination=0.001727485630620034, max_features=11,\n",
              "                max_samples='auto', n_estimators=100, n_jobs=None,\n",
              "                random_state=42, verbose=0, warm_start=False)"
            ]
          },
          "metadata": {
            "tags": []
          },
          "execution_count": 98
        }
      ]
    },
    {
      "cell_type": "code",
      "metadata": {
        "id": "-UX2YatT7xJ0",
        "colab_type": "code",
        "colab": {}
      },
      "source": [
        "#Predicting the class\n",
        "y_pred = clf.predict(x)"
      ],
      "execution_count": 0,
      "outputs": []
    },
    {
      "cell_type": "code",
      "metadata": {
        "id": "KbvFPVef7xJ4",
        "colab_type": "code",
        "colab": {},
        "outputId": "971cd6cf-eb35-4024-d671-c6f448471180"
      },
      "source": [
        "#Since the algorithm classifies one class as 1 and other as -1\n",
        "#Let's see how many classes it predicted as fraudulent \n",
        "(y_pred==-1).sum()"
      ],
      "execution_count": 0,
      "outputs": [
        {
          "output_type": "execute_result",
          "data": {
            "text/plain": [
              "492"
            ]
          },
          "metadata": {
            "tags": []
          },
          "execution_count": 100
        }
      ]
    },
    {
      "cell_type": "code",
      "metadata": {
        "id": "XgkLULfg7xJ_",
        "colab_type": "code",
        "colab": {}
      },
      "source": [
        "#Since our class variables are either 0 or 1, so we need to replace the predicted classes as 0 and 1\n",
        "y_pred[y_pred == 1] = 0\n",
        "y_pred[y_pred == -1] = 1"
      ],
      "execution_count": 0,
      "outputs": []
    },
    {
      "cell_type": "code",
      "metadata": {
        "scrolled": true,
        "id": "i4T1NMxZ7xKD",
        "colab_type": "code",
        "colab": {},
        "outputId": "197ff802-e1b2-4a80-8cc4-b1eb092c4e18"
      },
      "source": [
        "#Let's see how good our model performed \n",
        "print(\"Training Accuracy: \",accuracy_score(y, y_pred))\n",
        "cm = confusion_matrix(y, y_pred)\n",
        "print(cm)\n",
        "print(classification_report(y,y_pred))"
      ],
      "execution_count": 0,
      "outputs": [
        {
          "output_type": "stream",
          "text": [
            "Training Accuracy:  0.9985323394439041\n",
            "[[284106    209]\n",
            " [   209    283]]\n",
            "              precision    recall  f1-score   support\n",
            "\n",
            "           0       1.00      1.00      1.00    284315\n",
            "           1       0.58      0.58      0.58       492\n",
            "\n",
            "    accuracy                           1.00    284807\n",
            "   macro avg       0.79      0.79      0.79    284807\n",
            "weighted avg       1.00      1.00      1.00    284807\n",
            "\n"
          ],
          "name": "stdout"
        }
      ]
    },
    {
      "cell_type": "code",
      "metadata": {
        "id": "cCBfRLRB7xKL",
        "colab_type": "code",
        "colab": {}
      },
      "source": [
        "fpr, tpr, thresholds = roc_curve(y, y_pred)\n",
        "roc_auc = auc(fpr, tpr)"
      ],
      "execution_count": 0,
      "outputs": []
    },
    {
      "cell_type": "code",
      "metadata": {
        "id": "lx4UafXO7xKS",
        "colab_type": "code",
        "colab": {},
        "outputId": "a50385e6-a68d-4d81-f135-0dbf8e22d857"
      },
      "source": [
        "label = 'Isolation Forest Classifier AUC:' + ' {0:.2f}'.format(roc_auc)\n",
        "label2 = 'Random Model' \n",
        "plt.figure(figsize = (20, 12))\n",
        "plt.plot([0,1], [0,1], 'r--', label=label2)\n",
        "plt.plot(fpr, tpr, c = 'g', label = label, linewidth = 4)\n",
        "plt.xlabel('False Positive Rate', fontsize = 16)\n",
        "plt.ylabel('True Positive Rate', fontsize = 16)\n",
        "plt.title('Receiver Operating Characteristic', fontsize = 16)\n",
        "plt.legend(loc = 'lower right', fontsize = 16)"
      ],
      "execution_count": 0,
      "outputs": [
        {
          "output_type": "execute_result",
          "data": {
            "text/plain": [
              "<matplotlib.legend.Legend at 0x7fc318378f98>"
            ]
          },
          "metadata": {
            "tags": []
          },
          "execution_count": 104
        },
        {
          "output_type": "display_data",
          "data": {
            "image/png": "[encoded data removed]",
            "text/plain": [
              "<Figure size 1440x864 with 1 Axes>"
            ]
          },
          "metadata": {
            "tags": [],
            "needs_background": "light"
          }
        }
      ]
    },
    {
      "cell_type": "code",
      "metadata": {
        "id": "-HYKfUKa7xKV",
        "colab_type": "code",
        "colab": {}
      },
      "source": [
        "#We get AUC score of 0.79, that's bad. Seems like this algorithm is not working very well on our dataset "
      ],
      "execution_count": 0,
      "outputs": []
    },
    {
      "cell_type": "code",
      "metadata": {
        "id": "0_-M2CrR7xKY",
        "colab_type": "code",
        "colab": {}
      },
      "source": [
        "#Let's try another unsupervised algorithm \n",
        "from sklearn.neighbors import LocalOutlierFactor\n",
        "clf=LocalOutlierFactor(p=3,n_neighbors=5,contamination=(df.Class.value_counts()[1]/df.shape[0]))"
      ],
      "execution_count": 0,
      "outputs": []
    },
    {
      "cell_type": "code",
      "metadata": {
        "id": "kcWKLGcI7xKc",
        "colab_type": "code",
        "colab": {}
      },
      "source": [
        "LocalOutlierFactor?"
      ],
      "execution_count": 0,
      "outputs": []
    },
    {
      "cell_type": "code",
      "metadata": {
        "id": "KiGPcnXP7xKf",
        "colab_type": "code",
        "colab": {}
      },
      "source": [
        "y_pred = clf.fit_predict(x)\n",
        "y_pred[y_pred == 1] = 0\n",
        "y_pred[y_pred == -1] = 1"
      ],
      "execution_count": 0,
      "outputs": []
    },
    {
      "cell_type": "code",
      "metadata": {
        "id": "TNxY7WoT7xKi",
        "colab_type": "code",
        "colab": {},
        "outputId": "b5bc63c1-4022-42cc-d795-177df8c93b65"
      },
      "source": [
        "print(\"Training Accuracy: \",accuracy_score(y, y_pred))\n",
        "cm = confusion_matrix(y, y_pred)\n",
        "print(cm)\n",
        "print(classification_report(y,y_pred))"
      ],
      "execution_count": 0,
      "outputs": [
        {
          "output_type": "stream",
          "text": [
            "Training Accuracy:  0.9965450287387599\n",
            "[[283823    492]\n",
            " [   492      0]]\n",
            "              precision    recall  f1-score   support\n",
            "\n",
            "           0       1.00      1.00      1.00    284315\n",
            "           1       0.00      0.00      0.00       492\n",
            "\n",
            "    accuracy                           1.00    284807\n",
            "   macro avg       0.50      0.50      0.50    284807\n",
            "weighted avg       1.00      1.00      1.00    284807\n",
            "\n"
          ],
          "name": "stdout"
        }
      ]
    },
    {
      "cell_type": "code",
      "metadata": {
        "id": "Q3Ixc7LT7xKu",
        "colab_type": "code",
        "colab": {}
      },
      "source": [
        "fpr, tpr, thresholds = roc_curve(y, y_pred)\n",
        "roc_auc = auc(fpr, tpr)"
      ],
      "execution_count": 0,
      "outputs": []
    },
    {
      "cell_type": "code",
      "metadata": {
        "id": "GuQp37Mz7xK3",
        "colab_type": "code",
        "colab": {},
        "outputId": "3a13f328-83e2-43b7-da19-9147ad5f3f29"
      },
      "source": [
        "label = 'KNN Classifier AUC:' + ' {0:.2f}'.format(roc_auc)\n",
        "label2 = 'Random Model' \n",
        "plt.figure(figsize = (20, 12))\n",
        "plt.plot([0,1], [0,1], 'r--', label=label2)\n",
        "plt.plot(fpr, tpr, c = 'g', label = label, linewidth = 4)\n",
        "plt.xlabel('False Positive Rate', fontsize = 16)\n",
        "plt.ylabel('True Positive Rate', fontsize = 16)\n",
        "plt.title('Receiver Operating Characteristic', fontsize = 16)\n",
        "plt.legend(loc = 'lower right', fontsize = 16)"
      ],
      "execution_count": 0,
      "outputs": [
        {
          "output_type": "execute_result",
          "data": {
            "text/plain": [
              "<matplotlib.legend.Legend at 0x7fd8cf77f9e8>"
            ]
          },
          "metadata": {
            "tags": []
          },
          "execution_count": 52
        },
        {
          "output_type": "display_data",
          "data": {
            "image/png": "[encoded data removed]",
            "text/plain": [
              "<Figure size 1440x864 with 1 Axes>"
            ]
          },
          "metadata": {
            "tags": [],
            "needs_background": "light"
          }
        }
      ]
    },
    {
      "cell_type": "code",
      "metadata": {
        "id": "tSkRELD47xK7",
        "colab_type": "code",
        "colab": {}
      },
      "source": [
        "#WHAT!!!!? That's a garbage model with an AUC of 0.5.\n",
        "#Moreover it made 0 true negatives and that's a teriible, terrible model"
      ],
      "execution_count": 0,
      "outputs": []
    },
    {
      "cell_type": "markdown",
      "metadata": {
        "id": "JhfU86Tl7xK_",
        "colab_type": "text"
      },
      "source": [
        "For now it seems that *KNN* is performing quite well for the given data"
      ]
    }
  ]
}